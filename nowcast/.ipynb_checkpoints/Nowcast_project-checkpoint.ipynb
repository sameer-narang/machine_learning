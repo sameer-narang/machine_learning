{
 "cells": [
  {
   "cell_type": "code",
   "execution_count": 75,
   "metadata": {},
   "outputs": [],
   "source": [
    "import copy\n",
    "import datetime\n",
    "import matplotlib.pyplot as plt\n",
    "import numpy as np\n",
    "import os\n",
    "import pandas as pd\n",
    "import quandl\n",
    "import sklearn\n",
    "\n",
    "from datetime import timedelta\n",
    "from sklearn.model_selection import train_test_split\n",
    "from sklearn.linear_model import LinearRegression"
   ]
  },
  {
   "cell_type": "code",
   "execution_count": 76,
   "metadata": {},
   "outputs": [],
   "source": [
    "\n",
    "quandl.ApiConfig.api_key = \"8DrzzNxwBzDzh_1jE6Dj\"\n",
    "\n",
    "y_hat_frbny = None\n",
    "\n",
    "class Constant (object):\n",
    "    TS = \"time_series\"\n",
    "    DT = \"data_table\"\n",
    "    DATA_DIR = \"nowcast_inputs\"\n",
    "    OUTPUT_DIR = \"nowcast_benchmarks\"\n",
    "\n",
    "QUANDL_DATA = {\n",
    "    \"WTI_DeptOfEnergy\": {\n",
    "        \"refresh\": False,\n",
    "        \"code\": \"EIA/PET_RWTC_D\",\n",
    "        \"format\": Constant.TS,\n",
    "        \"data\": None\n",
    "    },\n",
    "    \"AAPL_Zacks\": {\n",
    "        \"refresh\": False,\n",
    "        \"source\": \"ZACKS/FC\",\n",
    "        \"ticker\": \"AAPL\",\n",
    "        \"format\": Constant.DT,\n",
    "        \"data\": None\n",
    "    },\n",
    "    \"SHORT_TERM_NAIRU_FedReserve\": {\n",
    "        \"refresh\": False,\n",
    "        \"code\": \"FRED/NROUST\",\n",
    "        \"format\": Constant.TS,\n",
    "        \"data\": None\n",
    "    },\n",
    "    \"CCY_AND_DEPOS_WorldBank\": {\n",
    "        \"refresh\": False,\n",
    "        \"code\": \"WPSD/USA_DP_DOD_DLCD_CR_GG_CD\",\n",
    "        \"format\": Constant.TS,\n",
    "        \"data\": None\n",
    "    },\n",
    "    \"CURR_ACC_BAL_WorldBank\": {\n",
    "        \"refresh\": False,\n",
    "        \"code\": \"WGEP/USA_BNCABFUNDCD_\",\n",
    "        \"format\": Constant.TS,\n",
    "        \"data\": None\n",
    "    },\n",
    "    \"UNEMPLOYMENT_FedReserve\": {\n",
    "        \"refresh\": False,\n",
    "        \"code\": \"FRED/M08K4BUSM148NNBR\",\n",
    "        \"format\": Constant.TS,\n",
    "        \"data\": None\n",
    "    },\n",
    "    \"BIZ_ACTIVITY_FedReserve\": {\n",
    "        \"refresh\": False,\n",
    "        \"code\": \"FRED/M12007USM511SNBR\",\n",
    "        \"format\": Constant.TS,\n",
    "        \"data\": None\n",
    "    },\n",
    "    \"20Y_YIELD_FedReserve\": {\n",
    "        \"refresh\": False,\n",
    "        \"code\": \"FRED/M13058USM156NNBR\",\n",
    "        \"format\": Constant.TS,\n",
    "        \"data\": None\n",
    "    },\n",
    "    \"NUM_INCORPORATIONS_FedReserve\": {\n",
    "        \"refresh\": False,\n",
    "        \"code\": \"FRED/M10090USM479NNBR\",\n",
    "        \"format\": Constant.TS,\n",
    "        \"data\": None\n",
    "    },\n",
    "    \"EMP_COMPENSATION_FedReserve\": {\n",
    "        \"refresh\": False,\n",
    "        \"code\": \"FRED/Q08358USQ027SNBR\",\n",
    "        \"format\": Constant.TS,\n",
    "        \"data\": None\n",
    "    },\n",
    "    \"FARM_INCOME_FedReserve\": {\n",
    "        \"refresh\": False,\n",
    "        \"code\": \"FRED/Q0876BUSQ027SNBR\",\n",
    "        \"format\": Constant.TS,\n",
    "        \"data\": None\n",
    "    },\n",
    "    \"PERSONAL_SAVING_FedReserve\": {\n",
    "        \"refresh\": False,\n",
    "        \"code\": \"FRED/Q1091BUSQ027SNBR\",\n",
    "        \"format\": Constant.TS,\n",
    "        \"data\": None\n",
    "    },\n",
    "    ##\n",
    "    \"M1_FedReserve\": {\n",
    "        \"refresh\": False,\n",
    "        \"code\": \"FRED/MYAGM1USM052N\",\n",
    "        \"format\": Constant.TS,\n",
    "        \"data\": None\n",
    "    },\n",
    "    \"M2_FedReserve\": {\n",
    "        \"refresh\": False,\n",
    "        \"code\": \"FRED/MYAGM2USM052N\",\n",
    "        \"format\": Constant.TS,\n",
    "        \"data\": None\n",
    "    },\n",
    "    \"PREM_GAS_PX_FedReserve\": {\n",
    "        \"refresh\": False,\n",
    "        \"code\": \"FRED/GASPRMCOVM\",\n",
    "        \"format\": Constant.TS,\n",
    "        \"data\": None\n",
    "    },\n",
    "    \"PORTFOLIO_ASSETS_FedReserve\": {\n",
    "        \"refresh\": False,\n",
    "        \"code\": \"FRED/IEAAPIN\",\n",
    "        \"format\": Constant.TS,\n",
    "        \"data\": None\n",
    "    },\n",
    "    \"YLD_CURVE_FedReserve\": {\n",
    "        \"refresh\": False,\n",
    "        \"code\": \"FED/SVENPY\",\n",
    "        \"format\": Constant.TS,\n",
    "        \"data\": None\n",
    "    },\n",
    "    \"TECH_SPEND_FC_FedNY\": {\n",
    "        \"refresh\": False,\n",
    "        \"code\": \"FRBNY/TSFDINA\",\n",
    "        \"format\": Constant.TS,\n",
    "        \"data\": None\n",
    "    },\n",
    "    \"CAPEX_FC_FedNY\": {\n",
    "        \"refresh\": True,\n",
    "        \"code\": \"FRBNY/CEFDINA\",\n",
    "        \"format\": Constant.TS,\n",
    "        \"data\": None\n",
    "    },\n",
    "    \"EMPL_PVT_SVC_ADP\": {\n",
    "        \"refresh\": False,\n",
    "        \"code\": \"ADP/EMPL_SERVICE_PR\",\n",
    "        \"format\": Constant.TS,\n",
    "        \"data\": None\n",
    "    },\n",
    "    \"EMPL_NONFARM_ADP\": {\n",
    "        \"refresh\": False,\n",
    "        \"code\": \"ADP/EMPL_NONFARM_PRI\",\n",
    "        \"format\": Constant.TS,\n",
    "        \"data\": None\n",
    "    },\n",
    "    \"EMPL_GOODS_PROD_ADP\": {\n",
    "        \"refresh\": False,\n",
    "        \"code\": \"ADP/EMPL_GOODS_PROD\",\n",
    "        \"format\": Constant.TS,\n",
    "        \"data\": None\n",
    "    },\n",
    "    \"CAPEX_FC_FedNY\": {\n",
    "        \"refresh\": False,\n",
    "        \"code\": \"FRBNY/CEFDINA\",\n",
    "        \"format\": Constant.TS,\n",
    "        \"data\": None\n",
    "    },\n",
    "    \"QTRLY_GDP_PCT_CHG_Bea\": {\n",
    "        \"refresh\": False,\n",
    "        \"code\": \"BEA/NIPA_1_1_1_Q\",\n",
    "        \"format\": Constant.TS,\n",
    "        \"data\": None\n",
    "    }\n",
    "}\n"
   ]
  },
  {
   "cell_type": "code",
   "execution_count": 77,
   "metadata": {},
   "outputs": [],
   "source": [
    "def get_quandl_data ():\n",
    "    for dc in QUANDL_DATA:\n",
    "        if not QUANDL_DATA [dc][\"refresh\"]:\n",
    "            continue\n",
    "            \n",
    "        ### sn: to get a numpy array, use the below. Don't worry about optimizing at this pt.\n",
    "        ### quandl.get (QUANDL_DATA [dc] [\"code\"], returns = \"numpy\")\n",
    "        \n",
    "        if QUANDL_DATA [dc][\"format\"] == Constant.TS:\n",
    "            QUANDL_DATA [dc] [\"data\"] = quandl.get (QUANDL_DATA [dc] [\"code\"])\n",
    "            save_quandl_data_to_file (dc)\n",
    "            #print (QUANDL_DATA [dc] [\"data\"])\n",
    "        elif QUANDL_DATA [dc][\"format\"] == Constant.DT:\n",
    "            QUANDL_DATA [dc] [\"data\"] = quandl.get_table (QUANDL_DATA [dc] [\"source\"], ticker=QUANDL_DATA [dc] [\"ticker\"])\n",
    "            save_quandl_data_to_file (dc)\n",
    "            #print (QUANDL_DATA [dc] [\"data\"])\n",
    "        else:\n",
    "            None"
   ]
  },
  {
   "cell_type": "code",
   "execution_count": 78,
   "metadata": {},
   "outputs": [],
   "source": [
    "def save_quandl_data_to_file (dc):\n",
    "    df = QUANDL_DATA [dc] [\"data\"]\n",
    "    if isinstance (df, pd.DataFrame):\n",
    "        file_name = Constant.DATA_DIR + \"/\" + dc + \".csv\"\n",
    "        print (\"Saving dataframe to file \" + file_name)\n",
    "        df.to_csv (file_name, encoding='utf-8')\n",
    "    "
   ]
  },
  {
   "cell_type": "code",
   "execution_count": 79,
   "metadata": {},
   "outputs": [],
   "source": [
    "#if isinstance (QUANDL_DATA [\"AAPL_Zacks\"] [\"data\"], pd.DataFrame):\n",
    "#    type (QUANDL_DATA [\"AAPL_Zacks\"] [\"data\"])"
   ]
  },
  {
   "cell_type": "code",
   "execution_count": 80,
   "metadata": {},
   "outputs": [],
   "source": [
    "def load_data (refresh=False):\n",
    "    global y_hat_frbny\n",
    "    if refresh:\n",
    "        get_quandl_data ()\n",
    "    else:\n",
    "        for dc in QUANDL_DATA:\n",
    "            file_name = Constant.DATA_DIR + \"/\" + dc + \".csv\"\n",
    "            if os.path.isfile (file_name):\n",
    "                QUANDL_DATA [dc] [\"data\"] = pd.read_csv (file_name)\n",
    "          \n",
    "    # sn: needs manual updates - nowcasts not avaialable in feed format\n",
    "    y_hat_frbny = pd.read_csv (Constant.DATA_DIR + \"/ny_fed.csv\")\n",
    "    "
   ]
  },
  {
   "cell_type": "code",
   "execution_count": 81,
   "metadata": {},
   "outputs": [],
   "source": [
    "load_data (refresh=False)\n",
    "#y_hat_frbny.tail (2)\n"
   ]
  },
  {
   "cell_type": "code",
   "execution_count": 85,
   "metadata": {},
   "outputs": [],
   "source": [
    "nonfarm_df = QUANDL_DATA [\"EMPL_NONFARM_ADP\"] [\"data\"]\n",
    "frbny_nowcast_df = y_hat_frbny\n",
    "act_gdp_df = QUANDL_DATA [\"QTRLY_GDP_PCT_CHG_Bea\"] [\"data\"]\n",
    "capex_df = QUANDL_DATA ['CAPEX_FC_FedNY']['data']"
   ]
  },
  {
   "cell_type": "code",
   "execution_count": 152,
   "metadata": {},
   "outputs": [
    {
     "data": {
      "text/html": [
       "<div>\n",
       "<style>\n",
       "    .dataframe thead tr:only-child th {\n",
       "        text-align: right;\n",
       "    }\n",
       "\n",
       "    .dataframe thead th {\n",
       "        text-align: left;\n",
       "    }\n",
       "\n",
       "    .dataframe tbody tr th {\n",
       "        vertical-align: top;\n",
       "    }\n",
       "</style>\n",
       "<table border=\"1\" class=\"dataframe\">\n",
       "  <thead>\n",
       "    <tr style=\"text-align: right;\">\n",
       "      <th></th>\n",
       "      <th>Month</th>\n",
       "      <th>1-19</th>\n",
       "      <th>20-49</th>\n",
       "      <th>1-49</th>\n",
       "      <th>50-499</th>\n",
       "      <th>500+</th>\n",
       "      <th>500-999</th>\n",
       "      <th>1000+</th>\n",
       "      <th>Date</th>\n",
       "      <th>Total</th>\n",
       "    </tr>\n",
       "  </thead>\n",
       "  <tbody>\n",
       "    <tr>\n",
       "      <th>0</th>\n",
       "      <td>2005-01-31</td>\n",
       "      <td>27441.186288</td>\n",
       "      <td>17539.233847</td>\n",
       "      <td>44980.420135</td>\n",
       "      <td>39296.884555</td>\n",
       "      <td>26885.877117</td>\n",
       "      <td>8443.638421</td>\n",
       "      <td>18442.238697</td>\n",
       "      <td>2005-01-31</td>\n",
       "      <td>111163.181807</td>\n",
       "    </tr>\n",
       "    <tr>\n",
       "      <th>1</th>\n",
       "      <td>2005-02-28</td>\n",
       "      <td>27513.877391</td>\n",
       "      <td>17564.906709</td>\n",
       "      <td>45078.784100</td>\n",
       "      <td>39312.157548</td>\n",
       "      <td>26909.143438</td>\n",
       "      <td>8453.210237</td>\n",
       "      <td>18455.933201</td>\n",
       "      <td>2005-02-28</td>\n",
       "      <td>111300.085086</td>\n",
       "    </tr>\n",
       "  </tbody>\n",
       "</table>\n",
       "</div>"
      ],
      "text/plain": [
       "        Month          1-19         20-49          1-49        50-499  \\\n",
       "0  2005-01-31  27441.186288  17539.233847  44980.420135  39296.884555   \n",
       "1  2005-02-28  27513.877391  17564.906709  45078.784100  39312.157548   \n",
       "\n",
       "           500+      500-999         1000+       Date          Total  \n",
       "0  26885.877117  8443.638421  18442.238697 2005-01-31  111163.181807  \n",
       "1  26909.143438  8453.210237  18455.933201 2005-02-28  111300.085086  "
      ]
     },
     "execution_count": 152,
     "metadata": {},
     "output_type": "execute_result"
    }
   ],
   "source": [
    "#nonfarm_df [\"Month\"] [0]\n",
    "#y_hat_frbny.tail (2)\n",
    "#act_gdp_df.tail (2)\n",
    "#nonfarm_df.tail(5)\n",
    "#QUANDL_DATA ['CAPEX_FC_FedNY']['data'].head(2)\n",
    "nonfarm_df.head (2)"
   ]
  },
  {
   "cell_type": "code",
   "execution_count": 86,
   "metadata": {},
   "outputs": [],
   "source": [
    "fmt=\"%Y-%m-%d\"\n",
    "\n",
    "nonfarm_df ['Date'] = nonfarm_df ['Month'].apply (datetime.datetime.strptime, args=(fmt,))\n",
    "nonfarm_df ['Total'] = nonfarm_df ['1-49'] + nonfarm_df ['50-499'] + nonfarm_df ['500+']\n",
    "\n",
    "capex_df ['Date'] = capex_df ['Date'].apply (datetime.datetime.strptime, args=(fmt,))\n",
    "capex_df ['Total'] = capex_df ['Value']"
   ]
  },
  {
   "cell_type": "code",
   "execution_count": 93,
   "metadata": {},
   "outputs": [],
   "source": [
    "act_gdp_df ['Date'] = act_gdp_df ['Date'].apply (datetime.datetime.strptime, args=(fmt,))\n"
   ]
  },
  {
   "cell_type": "code",
   "execution_count": 87,
   "metadata": {},
   "outputs": [],
   "source": [
    "#act_gdp_df.tail(2)"
   ]
  },
  {
   "cell_type": "code",
   "execution_count": 88,
   "metadata": {},
   "outputs": [],
   "source": [
    "#nonfarm_df.head(2)\n",
    "#nonfarm_df [(nonfarm_df ['Date'] > datetime.datetime.strptime ('2016-07-31', fmt)) & (nonfarm_df ['Date'] < datetime.datetime.strptime ('2017-07-31', fmt))]['Month']"
   ]
  },
  {
   "cell_type": "code",
   "execution_count": 112,
   "metadata": {},
   "outputs": [],
   "source": [
    "def normalize_series (x):\n",
    "    return np.min (x), np.ptp (x), (x - np.min(x))/np.ptp (x)"
   ]
  },
  {
   "cell_type": "code",
   "execution_count": 113,
   "metadata": {},
   "outputs": [],
   "source": [
    "# sn: this function returns X, y - the full data set since the beginning of y\n",
    "# each day in the prior 2 years is a feature\n",
    "# the function takes as argument the number of days prior to quarter end that we are\n",
    "# predicting the GDP growth for\n",
    "# x_df and y_df must have the column 'Date' and x_df must also have the column 'Total'\n",
    "def featurize_series (days_to_qtr_end, x_df, y_df, num_days_per_period=1, num_years=2):\n",
    "    X = []\n",
    "    y = []\n",
    "    quarters = []\n",
    "    DAYS_PER_YEAR = 365\n",
    "\n",
    "    for idx, row in y_df.iterrows ():\n",
    "        #quarters.append (convert_yyyymmdd_str_to_qtr(row ['Date']))\n",
    "        #qtr_end = datetime.datetime.strptime (row ['Date'], fmt)\n",
    "        qtr_end = row ['Date']\n",
    "        x = [0] * num_years * int (DAYS_PER_YEAR/num_days_per_period)\n",
    "        for idx2, row2 in x_df.iterrows ():\n",
    "            series_row_date = row2 ['Date']\n",
    "            if (series_row_date <= qtr_end + timedelta (days=-days_to_qtr_end)) and \\\n",
    "                    (series_row_date > qtr_end + timedelta (days=-2 * num_years * DAYS_PER_YEAR)):\n",
    "                feature_col_idx = int ((qtr_end - series_row_date).days / num_days_per_period)\n",
    "                if feature_col_idx >= len (x):\n",
    "                    feature_col_idx = len (x) - 1\n",
    "                x [feature_col_idx] = row2 ['Total']\n",
    "       \n",
    "        X.append (x)\n",
    "        quarters.append (qtr_end)\n",
    "        y.append (row ['Gross domestic product'])\n",
    "\n",
    "    return np.array (X), np.array (y)\n",
    "    \n",
    "#featurize_series (45, nonfarm_df, act_gdp_df)"
   ]
  },
  {
   "cell_type": "code",
   "execution_count": 146,
   "metadata": {},
   "outputs": [],
   "source": [
    "X = None\n",
    "y = None\n",
    "# first data point is 2005-01-31\n",
    "X1, y1 = featurize_series (0, nonfarm_df, act_gdp_df [act_gdp_df ['Date'] >= datetime.datetime.strptime ('2005-01-01', fmt)], \\\n",
    "                        num_days_per_period=91)\n",
    "# first data point is 2001-07-31\n",
    "X2, y2 = featurize_series (0, capex_df, act_gdp_df [act_gdp_df ['Date'] >= datetime.datetime.strptime ('2005-01-01', fmt)], \\\n",
    "                       num_days_per_period=91)\n",
    "\n",
    "min_y, ptp_y, scaled_y1 = normalize_series (y1)\n",
    "min_X1, ptp_X1, scaled_X1 = normalize_series (X1)\n",
    "min_X2, ptp_X2, scaled_X2 = normalize_series (X2)\n",
    "\n",
    "X = np.concatenate ((scaled_X1, scaled_X2), axis=1)\n",
    "y = scaled_y1\n",
    "#X = X2"
   ]
  },
  {
   "cell_type": "code",
   "execution_count": 139,
   "metadata": {},
   "outputs": [
    {
     "data": {
      "text/plain": [
       "(50, 16)"
      ]
     },
     "execution_count": 139,
     "metadata": {},
     "output_type": "execute_result"
    }
   ],
   "source": [
    "X.shape"
   ]
  },
  {
   "cell_type": "code",
   "execution_count": 145,
   "metadata": {},
   "outputs": [
    {
     "data": {
      "text/plain": [
       "array([ 0.89607374,  0.        ,  0.        ,  0.        ,  0.        ,\n",
       "        0.        ,  0.        ,  0.        ])"
      ]
     },
     "execution_count": 145,
     "metadata": {},
     "output_type": "execute_result"
    }
   ],
   "source": [
    "scaled_X1[0]"
   ]
  },
  {
   "cell_type": "code",
   "execution_count": null,
   "metadata": {},
   "outputs": [],
   "source": []
  },
  {
   "cell_type": "code",
   "execution_count": 147,
   "metadata": {},
   "outputs": [],
   "source": [
    "X_train, X_test, y_train, y_test = train_test_split (X, y, test_size=0.2, random_state=2)"
   ]
  },
  {
   "cell_type": "code",
   "execution_count": 141,
   "metadata": {},
   "outputs": [
    {
     "data": {
      "text/plain": [
       "10"
      ]
     },
     "execution_count": 141,
     "metadata": {},
     "output_type": "execute_result"
    }
   ],
   "source": [
    "len(y_test)"
   ]
  },
  {
   "cell_type": "code",
   "execution_count": 148,
   "metadata": {},
   "outputs": [],
   "source": [
    "regr = LinearRegression ()\n",
    "regr.fit (X_train, y_train)\n",
    "y_preds = regr.predict (X_test)\n"
   ]
  },
  {
   "cell_type": "code",
   "execution_count": 149,
   "metadata": {
    "scrolled": true
   },
   "outputs": [
    {
     "name": "stdout",
     "output_type": "stream",
     "text": [
      "[  0.91399999   0.85392053   0.89833023   0.55521361   0.53372684\n",
      "  20.06148117   0.78989342   0.77938944   0.85136123   0.62449161]\n"
     ]
    }
   ],
   "source": [
    "print (y_preds)"
   ]
  },
  {
   "cell_type": "code",
   "execution_count": 119,
   "metadata": {},
   "outputs": [
    {
     "name": "stdout",
     "output_type": "stream",
     "text": [
      "[-0.9  1.8  2.7  3.1  2.   4.3  0.6  2.8  2.   2.5]\n"
     ]
    }
   ],
   "source": [
    "print (y_test)\n"
   ]
  },
  {
   "cell_type": "code",
   "execution_count": null,
   "metadata": {},
   "outputs": [],
   "source": [
    "plt.plot(X_test, y_preds, color='blue', linewidth=1)\n",
    "plt.xticks(())\n",
    "plt.yticks(())\n",
    "\n",
    "plt.show()"
   ]
  },
  {
   "cell_type": "code",
   "execution_count": 11,
   "metadata": {},
   "outputs": [],
   "source": [
    "def convert_yyyymmdd_str_to_qtr (dt_str):\n",
    "    return dt_str [:4] + \"Q\" + str (int(np.floor((int (dt_str [5:7]) - 1)/3)) + 1)\n",
    "    \n",
    "def get_quarter_key (dt, qtr):\n",
    "    if qtr*3 >= dt.month:\n",
    "        return str (dt.year) + \"Q\" + str (qtr)\n",
    "    else:\n",
    "        return str (dt.year + 1) + \"Q\" + str (qtr)\n",
    "\n",
    "def get_months_to_quarter (dt, qtr):\n",
    "    if dt.month > qtr * 3:\n",
    "        return (12 - dt.month + qtr*3 + 1)\n",
    "    else:\n",
    "        return (qtr*3 - dt.month + 1)\n",
    "\n",
    "def mark_quarter (df, quarter):\n",
    "    res_df = copy.deepcopy (df)\n",
    "    #if quarter == 1:\n",
    "    res_df [\"TargetQuarter\"] = res_df ['Date'].apply (get_quarter_key, args=(quarter,))\n",
    "    res_df [\"MonthsToTarget\"] = res_df ['Date'].apply (get_months_to_quarter, args=(quarter,))\n",
    "    return res_df\n",
    "    \n",
    "def featurize_monthly_absolute_figures (df, label_input_col, fmt=\"%Y-%m-%d\"):\n",
    "    df [\"Date\"] = df [label_input_col].apply (datetime.datetime.strptime, args=(fmt,))\n",
    "    #x_df = pd.Dataframe\n",
    "    #for i in range (1, 5):\n",
    "    updated_df = mark_quarter (df, quarter=1)\n",
    "    updated_df = updated_df.append (mark_quarter (df, quarter=2))\n",
    "    updated_df = updated_df.append (mark_quarter (df, quarter=3))\n",
    "    updated_df = updated_df.append (mark_quarter (df, quarter=4))\n",
    "    return updated_df\n",
    "    #df [\"TargetPeriod\"] = df [label_input_col]\n",
    "    #df [\"TargetPeriod\"] = df [label_input_col].apply (convert_yyyymmdd_str_to_qtr)\n"
   ]
  },
  {
   "cell_type": "code",
   "execution_count": 12,
   "metadata": {
    "scrolled": false
   },
   "outputs": [
    {
     "data": {
      "text/html": [
       "<div>\n",
       "<style>\n",
       "    .dataframe thead tr:only-child th {\n",
       "        text-align: right;\n",
       "    }\n",
       "\n",
       "    .dataframe thead th {\n",
       "        text-align: left;\n",
       "    }\n",
       "\n",
       "    .dataframe tbody tr th {\n",
       "        vertical-align: top;\n",
       "    }\n",
       "</style>\n",
       "<table border=\"1\" class=\"dataframe\">\n",
       "  <thead>\n",
       "    <tr style=\"text-align: right;\">\n",
       "      <th></th>\n",
       "      <th>Month</th>\n",
       "      <th>1-19</th>\n",
       "      <th>20-49</th>\n",
       "      <th>1-49</th>\n",
       "      <th>50-499</th>\n",
       "      <th>500+</th>\n",
       "      <th>500-999</th>\n",
       "      <th>1000+</th>\n",
       "      <th>Date</th>\n",
       "      <th>TargetQuarter</th>\n",
       "      <th>MonthsToTarget</th>\n",
       "      <th>Total</th>\n",
       "    </tr>\n",
       "  </thead>\n",
       "  <tbody>\n",
       "    <tr>\n",
       "      <th>144</th>\n",
       "      <td>2017-01-31</td>\n",
       "      <td>31057.993898</td>\n",
       "      <td>19878.039194</td>\n",
       "      <td>50936.033092</td>\n",
       "      <td>44284.823</td>\n",
       "      <td>28054.591742</td>\n",
       "      <td>8342.762328</td>\n",
       "      <td>19711.829414</td>\n",
       "      <td>2017-01-31</td>\n",
       "      <td>2017Q1</td>\n",
       "      <td>3</td>\n",
       "      <td>123275.447833</td>\n",
       "    </tr>\n",
       "    <tr>\n",
       "      <th>144</th>\n",
       "      <td>2017-01-31</td>\n",
       "      <td>31057.993898</td>\n",
       "      <td>19878.039194</td>\n",
       "      <td>50936.033092</td>\n",
       "      <td>44284.823</td>\n",
       "      <td>28054.591742</td>\n",
       "      <td>8342.762328</td>\n",
       "      <td>19711.829414</td>\n",
       "      <td>2017-01-31</td>\n",
       "      <td>2017Q2</td>\n",
       "      <td>6</td>\n",
       "      <td>123275.447833</td>\n",
       "    </tr>\n",
       "    <tr>\n",
       "      <th>144</th>\n",
       "      <td>2017-01-31</td>\n",
       "      <td>31057.993898</td>\n",
       "      <td>19878.039194</td>\n",
       "      <td>50936.033092</td>\n",
       "      <td>44284.823</td>\n",
       "      <td>28054.591742</td>\n",
       "      <td>8342.762328</td>\n",
       "      <td>19711.829414</td>\n",
       "      <td>2017-01-31</td>\n",
       "      <td>2017Q3</td>\n",
       "      <td>9</td>\n",
       "      <td>123275.447833</td>\n",
       "    </tr>\n",
       "    <tr>\n",
       "      <th>144</th>\n",
       "      <td>2017-01-31</td>\n",
       "      <td>31057.993898</td>\n",
       "      <td>19878.039194</td>\n",
       "      <td>50936.033092</td>\n",
       "      <td>44284.823</td>\n",
       "      <td>28054.591742</td>\n",
       "      <td>8342.762328</td>\n",
       "      <td>19711.829414</td>\n",
       "      <td>2017-01-31</td>\n",
       "      <td>2017Q4</td>\n",
       "      <td>12</td>\n",
       "      <td>123275.447833</td>\n",
       "    </tr>\n",
       "  </tbody>\n",
       "</table>\n",
       "</div>"
      ],
      "text/plain": [
       "          Month          1-19         20-49          1-49     50-499  \\\n",
       "144  2017-01-31  31057.993898  19878.039194  50936.033092  44284.823   \n",
       "144  2017-01-31  31057.993898  19878.039194  50936.033092  44284.823   \n",
       "144  2017-01-31  31057.993898  19878.039194  50936.033092  44284.823   \n",
       "144  2017-01-31  31057.993898  19878.039194  50936.033092  44284.823   \n",
       "\n",
       "             500+      500-999         1000+       Date TargetQuarter  \\\n",
       "144  28054.591742  8342.762328  19711.829414 2017-01-31        2017Q1   \n",
       "144  28054.591742  8342.762328  19711.829414 2017-01-31        2017Q2   \n",
       "144  28054.591742  8342.762328  19711.829414 2017-01-31        2017Q3   \n",
       "144  28054.591742  8342.762328  19711.829414 2017-01-31        2017Q4   \n",
       "\n",
       "     MonthsToTarget          Total  \n",
       "144               3  123275.447833  \n",
       "144               6  123275.447833  \n",
       "144               9  123275.447833  \n",
       "144              12  123275.447833  "
      ]
     },
     "execution_count": 12,
     "metadata": {},
     "output_type": "execute_result"
    }
   ],
   "source": [
    "updated_nonfarm_df = featurize_monthly_absolute_figures (nonfarm_df, \"Month\")\n",
    "updated_nonfarm_df ['Total'] = updated_nonfarm_df ['1-49'] + updated_nonfarm_df ['50-499'] + updated_nonfarm_df ['500+']\n",
    "#updated_nonfarm_df [['Date','TargetPeriod', 'MonthsToTarget', 'Total']].tail(50)\n",
    "updated_nonfarm_df [updated_nonfarm_df['Month']=='2017-01-31']\n",
    "#updated_nonfarm_df [['Month', 'MonthsToTarget']].tail (10)\n",
    "#updated_nonfarm_df.shape\n",
    "#nonfarm_df.shape\n",
    "#type (nonfarm_df ['Date'][0])"
   ]
  },
  {
   "cell_type": "code",
   "execution_count": 106,
   "metadata": {
    "scrolled": true
   },
   "outputs": [
    {
     "data": {
      "text/html": [
       "<div>\n",
       "<style>\n",
       "    .dataframe thead tr:only-child th {\n",
       "        text-align: right;\n",
       "    }\n",
       "\n",
       "    .dataframe thead th {\n",
       "        text-align: left;\n",
       "    }\n",
       "\n",
       "    .dataframe tbody tr th {\n",
       "        vertical-align: top;\n",
       "    }\n",
       "</style>\n",
       "<table border=\"1\" class=\"dataframe\">\n",
       "  <thead>\n",
       "    <tr style=\"text-align: right;\">\n",
       "      <th></th>\n",
       "      <th>Month</th>\n",
       "      <th>1-19</th>\n",
       "      <th>20-49</th>\n",
       "      <th>1-49</th>\n",
       "      <th>50-499</th>\n",
       "      <th>500+</th>\n",
       "      <th>500-999</th>\n",
       "      <th>1000+</th>\n",
       "      <th>Date</th>\n",
       "      <th>TargetQuarter</th>\n",
       "      <th>MonthsToTarget</th>\n",
       "      <th>Total</th>\n",
       "    </tr>\n",
       "  </thead>\n",
       "  <tbody>\n",
       "    <tr>\n",
       "      <th>138</th>\n",
       "      <td>2016-07-31</td>\n",
       "      <td>30935.080038</td>\n",
       "      <td>19723.460718</td>\n",
       "      <td>50658.540756</td>\n",
       "      <td>43867.727689</td>\n",
       "      <td>27634.159054</td>\n",
       "      <td>8276.979113</td>\n",
       "      <td>19357.179941</td>\n",
       "      <td>2016-07-31</td>\n",
       "      <td>2017Q2</td>\n",
       "      <td>12</td>\n",
       "      <td>122160.427500</td>\n",
       "    </tr>\n",
       "    <tr>\n",
       "      <th>139</th>\n",
       "      <td>2016-08-31</td>\n",
       "      <td>30961.324340</td>\n",
       "      <td>19750.112916</td>\n",
       "      <td>50711.437256</td>\n",
       "      <td>43907.635990</td>\n",
       "      <td>27681.918454</td>\n",
       "      <td>8286.724026</td>\n",
       "      <td>19395.194428</td>\n",
       "      <td>2016-08-31</td>\n",
       "      <td>2017Q2</td>\n",
       "      <td>11</td>\n",
       "      <td>122300.991700</td>\n",
       "    </tr>\n",
       "    <tr>\n",
       "      <th>140</th>\n",
       "      <td>2016-09-30</td>\n",
       "      <td>30995.015065</td>\n",
       "      <td>19769.855426</td>\n",
       "      <td>50764.870490</td>\n",
       "      <td>43989.822838</td>\n",
       "      <td>27763.285472</td>\n",
       "      <td>8291.542198</td>\n",
       "      <td>19471.743273</td>\n",
       "      <td>2016-09-30</td>\n",
       "      <td>2017Q2</td>\n",
       "      <td>10</td>\n",
       "      <td>122517.978800</td>\n",
       "    </tr>\n",
       "    <tr>\n",
       "      <th>141</th>\n",
       "      <td>2016-10-31</td>\n",
       "      <td>30987.951877</td>\n",
       "      <td>19776.650323</td>\n",
       "      <td>50764.602199</td>\n",
       "      <td>44005.162254</td>\n",
       "      <td>27809.884647</td>\n",
       "      <td>8290.329664</td>\n",
       "      <td>19519.554983</td>\n",
       "      <td>2016-10-31</td>\n",
       "      <td>2017Q2</td>\n",
       "      <td>9</td>\n",
       "      <td>122579.649100</td>\n",
       "    </tr>\n",
       "    <tr>\n",
       "      <th>142</th>\n",
       "      <td>2016-11-30</td>\n",
       "      <td>31006.699399</td>\n",
       "      <td>19806.430013</td>\n",
       "      <td>50813.129411</td>\n",
       "      <td>44097.439918</td>\n",
       "      <td>27895.490470</td>\n",
       "      <td>8309.335533</td>\n",
       "      <td>19586.154937</td>\n",
       "      <td>2016-11-30</td>\n",
       "      <td>2017Q2</td>\n",
       "      <td>8</td>\n",
       "      <td>122806.059800</td>\n",
       "    </tr>\n",
       "    <tr>\n",
       "      <th>143</th>\n",
       "      <td>2016-12-31</td>\n",
       "      <td>31014.779590</td>\n",
       "      <td>19839.279667</td>\n",
       "      <td>50854.059257</td>\n",
       "      <td>44181.710194</td>\n",
       "      <td>27971.278749</td>\n",
       "      <td>8324.734737</td>\n",
       "      <td>19646.544012</td>\n",
       "      <td>2016-12-31</td>\n",
       "      <td>2017Q2</td>\n",
       "      <td>7</td>\n",
       "      <td>123007.048200</td>\n",
       "    </tr>\n",
       "    <tr>\n",
       "      <th>144</th>\n",
       "      <td>2017-01-31</td>\n",
       "      <td>31057.993898</td>\n",
       "      <td>19878.039194</td>\n",
       "      <td>50936.033092</td>\n",
       "      <td>44284.823000</td>\n",
       "      <td>28054.591742</td>\n",
       "      <td>8342.762328</td>\n",
       "      <td>19711.829414</td>\n",
       "      <td>2017-01-31</td>\n",
       "      <td>2017Q2</td>\n",
       "      <td>6</td>\n",
       "      <td>123275.447833</td>\n",
       "    </tr>\n",
       "    <tr>\n",
       "      <th>145</th>\n",
       "      <td>2017-02-28</td>\n",
       "      <td>31102.659821</td>\n",
       "      <td>19924.757580</td>\n",
       "      <td>51027.417401</td>\n",
       "      <td>44379.135357</td>\n",
       "      <td>28117.460521</td>\n",
       "      <td>8369.491088</td>\n",
       "      <td>19747.969433</td>\n",
       "      <td>2017-02-28</td>\n",
       "      <td>2017Q2</td>\n",
       "      <td>5</td>\n",
       "      <td>123524.013279</td>\n",
       "    </tr>\n",
       "    <tr>\n",
       "      <th>146</th>\n",
       "      <td>2017-03-31</td>\n",
       "      <td>31165.992255</td>\n",
       "      <td>19986.952416</td>\n",
       "      <td>51152.944670</td>\n",
       "      <td>44480.218760</td>\n",
       "      <td>28145.862943</td>\n",
       "      <td>8376.955597</td>\n",
       "      <td>19768.907346</td>\n",
       "      <td>2017-03-31</td>\n",
       "      <td>2017Q2</td>\n",
       "      <td>4</td>\n",
       "      <td>123779.026374</td>\n",
       "    </tr>\n",
       "    <tr>\n",
       "      <th>147</th>\n",
       "      <td>2017-04-30</td>\n",
       "      <td>31185.385497</td>\n",
       "      <td>20004.813552</td>\n",
       "      <td>51190.199050</td>\n",
       "      <td>44572.914511</td>\n",
       "      <td>28164.010312</td>\n",
       "      <td>8412.759968</td>\n",
       "      <td>19751.250344</td>\n",
       "      <td>2017-04-30</td>\n",
       "      <td>2017Q2</td>\n",
       "      <td>3</td>\n",
       "      <td>123927.123874</td>\n",
       "    </tr>\n",
       "    <tr>\n",
       "      <th>148</th>\n",
       "      <td>2017-05-31</td>\n",
       "      <td>31232.189653</td>\n",
       "      <td>20020.458932</td>\n",
       "      <td>51252.648585</td>\n",
       "      <td>44683.298474</td>\n",
       "      <td>28224.666157</td>\n",
       "      <td>8444.816270</td>\n",
       "      <td>19779.849887</td>\n",
       "      <td>2017-05-31</td>\n",
       "      <td>2017Q2</td>\n",
       "      <td>2</td>\n",
       "      <td>124160.613217</td>\n",
       "    </tr>\n",
       "    <tr>\n",
       "      <th>149</th>\n",
       "      <td>2017-06-30</td>\n",
       "      <td>31259.475306</td>\n",
       "      <td>20052.471538</td>\n",
       "      <td>51311.946844</td>\n",
       "      <td>44763.216890</td>\n",
       "      <td>28277.660309</td>\n",
       "      <td>8461.745058</td>\n",
       "      <td>19815.915251</td>\n",
       "      <td>2017-06-30</td>\n",
       "      <td>2017Q2</td>\n",
       "      <td>1</td>\n",
       "      <td>124352.824043</td>\n",
       "    </tr>\n",
       "  </tbody>\n",
       "</table>\n",
       "</div>"
      ],
      "text/plain": [
       "          Month          1-19         20-49          1-49        50-499  \\\n",
       "138  2016-07-31  30935.080038  19723.460718  50658.540756  43867.727689   \n",
       "139  2016-08-31  30961.324340  19750.112916  50711.437256  43907.635990   \n",
       "140  2016-09-30  30995.015065  19769.855426  50764.870490  43989.822838   \n",
       "141  2016-10-31  30987.951877  19776.650323  50764.602199  44005.162254   \n",
       "142  2016-11-30  31006.699399  19806.430013  50813.129411  44097.439918   \n",
       "143  2016-12-31  31014.779590  19839.279667  50854.059257  44181.710194   \n",
       "144  2017-01-31  31057.993898  19878.039194  50936.033092  44284.823000   \n",
       "145  2017-02-28  31102.659821  19924.757580  51027.417401  44379.135357   \n",
       "146  2017-03-31  31165.992255  19986.952416  51152.944670  44480.218760   \n",
       "147  2017-04-30  31185.385497  20004.813552  51190.199050  44572.914511   \n",
       "148  2017-05-31  31232.189653  20020.458932  51252.648585  44683.298474   \n",
       "149  2017-06-30  31259.475306  20052.471538  51311.946844  44763.216890   \n",
       "\n",
       "             500+      500-999         1000+       Date TargetQuarter  \\\n",
       "138  27634.159054  8276.979113  19357.179941 2016-07-31        2017Q2   \n",
       "139  27681.918454  8286.724026  19395.194428 2016-08-31        2017Q2   \n",
       "140  27763.285472  8291.542198  19471.743273 2016-09-30        2017Q2   \n",
       "141  27809.884647  8290.329664  19519.554983 2016-10-31        2017Q2   \n",
       "142  27895.490470  8309.335533  19586.154937 2016-11-30        2017Q2   \n",
       "143  27971.278749  8324.734737  19646.544012 2016-12-31        2017Q2   \n",
       "144  28054.591742  8342.762328  19711.829414 2017-01-31        2017Q2   \n",
       "145  28117.460521  8369.491088  19747.969433 2017-02-28        2017Q2   \n",
       "146  28145.862943  8376.955597  19768.907346 2017-03-31        2017Q2   \n",
       "147  28164.010312  8412.759968  19751.250344 2017-04-30        2017Q2   \n",
       "148  28224.666157  8444.816270  19779.849887 2017-05-31        2017Q2   \n",
       "149  28277.660309  8461.745058  19815.915251 2017-06-30        2017Q2   \n",
       "\n",
       "     MonthsToTarget          Total  \n",
       "138              12  122160.427500  \n",
       "139              11  122300.991700  \n",
       "140              10  122517.978800  \n",
       "141               9  122579.649100  \n",
       "142               8  122806.059800  \n",
       "143               7  123007.048200  \n",
       "144               6  123275.447833  \n",
       "145               5  123524.013279  \n",
       "146               4  123779.026374  \n",
       "147               3  123927.123874  \n",
       "148               2  124160.613217  \n",
       "149               1  124352.824043  "
      ]
     },
     "execution_count": 106,
     "metadata": {},
     "output_type": "execute_result"
    }
   ],
   "source": [
    "updated_nonfarm_df [updated_nonfarm_df ['TargetQuarter'] == '2017Q2']"
   ]
  },
  {
   "cell_type": "code",
   "execution_count": 150,
   "metadata": {},
   "outputs": [],
   "source": [
    "X_df = None"
   ]
  },
  {
   "cell_type": "code",
   "execution_count": 151,
   "metadata": {},
   "outputs": [
    {
     "data": {
      "text/plain": [
       "'\\nX_df = updated_nonfarm_df.pivot (index=\\'TargetQuarter\\', columns=\\'MonthsToTarget\\', values=\\'Total\\')\\nfor i in range (1,13):\\n    X_df.rename (columns= {i: str(i) + \"_mthPrior\"}, inplace=True) \\nX_df.tail (50)\\n'"
      ]
     },
     "execution_count": 151,
     "metadata": {},
     "output_type": "execute_result"
    }
   ],
   "source": [
    "'''\n",
    "X_df = updated_nonfarm_df.pivot (index='TargetQuarter', columns='MonthsToTarget', values='Total')\n",
    "for i in range (1,13):\n",
    "    X_df.rename (columns= {i: str(i) + \"_mthPrior\"}, inplace=True) \n",
    "X_df.tail (50)\n",
    "'''"
   ]
  },
  {
   "cell_type": "code",
   "execution_count": null,
   "metadata": {},
   "outputs": [],
   "source": []
  },
  {
   "cell_type": "code",
   "execution_count": null,
   "metadata": {},
   "outputs": [],
   "source": [
    "def featurize_monthly_absolute_figures_x (df, quarters):\n",
    "    \n",
    "    None\n",
    "    \n",
    "df1 = pd.DataFrame ([[1,11],[2,22]], columns=list('AB'))\n",
    "df2 = pd.DataFrame ([[3,33],[4,44]], columns=list('AB'))\n",
    "df3 = df1.append (df2)\n",
    "df3"
   ]
  },
  {
   "cell_type": "code",
   "execution_count": null,
   "metadata": {},
   "outputs": [],
   "source": [
    "nonfarm_df.tail(5)"
   ]
  },
  {
   "cell_type": "code",
   "execution_count": 72,
   "metadata": {},
   "outputs": [
    {
     "data": {
      "text/plain": [
       "dict_keys(['SHORT_TERM_NAIRU_FedReserve', 'UNEMPLOYMENT_FedReserve', 'M1_FedReserve', 'FARM_INCOME_FedReserve', 'CCY_AND_DEPOS_WorldBank', 'PORTFOLIO_ASSETS_FedReserve', 'EMPL_PVT_SVC_ADP', 'NUM_INCORPORATIONS_FedReserve', 'WTI_DeptOfEnergy', 'CURR_ACC_BAL_WorldBank', 'EMP_COMPENSATION_FedReserve', 'TECH_SPEND_FC_FedNY', '20Y_YIELD_FedReserve', 'PERSONAL_SAVING_FedReserve', 'EMPL_GOODS_PROD_ADP', 'QTRLY_GDP_PCT_CHG_Bea', 'PREM_GAS_PX_FedReserve', 'YLD_CURVE_FedReserve', 'EMPL_NONFARM_ADP', 'M2_FedReserve', 'AAPL_Zacks', 'CAPEX_FC_FedNY', 'BIZ_ACTIVITY_FedReserve'])"
      ]
     },
     "execution_count": 72,
     "metadata": {},
     "output_type": "execute_result"
    }
   ],
   "source": [
    "QUANDL_DATA.keys ()"
   ]
  },
  {
   "cell_type": "code",
   "execution_count": 74,
   "metadata": {},
   "outputs": [
    {
     "data": {
      "text/plain": [
       "{'code': 'FRED/M08K4BUSM148NNBR',\n",
       " 'data': None,\n",
       " 'format': 'time_series',\n",
       " 'refresh': False}"
      ]
     },
     "execution_count": 74,
     "metadata": {},
     "output_type": "execute_result"
    }
   ],
   "source": [
    "QUANDL_DATA ['UNEMPLOYMENT_FedReserve']"
   ]
  },
  {
   "cell_type": "code",
   "execution_count": null,
   "metadata": {},
   "outputs": [],
   "source": []
  }
 ],
 "metadata": {
  "kernelspec": {
   "display_name": "Python 3",
   "language": "python",
   "name": "python3"
  },
  "language_info": {
   "codemirror_mode": {
    "name": "ipython",
    "version": 3
   },
   "file_extension": ".py",
   "mimetype": "text/x-python",
   "name": "python",
   "nbconvert_exporter": "python",
   "pygments_lexer": "ipython3",
   "version": "3.5.2"
  }
 },
 "nbformat": 4,
 "nbformat_minor": 2
}
