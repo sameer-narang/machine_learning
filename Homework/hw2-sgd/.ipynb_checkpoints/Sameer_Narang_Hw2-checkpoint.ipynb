{
 "cells": [
  {
   "cell_type": "code",
   "execution_count": 132,
   "metadata": {},
   "outputs": [],
   "source": [
    "import numpy as np\n",
    "import pandas as pd\n",
    "import sklearn\n",
    "from sklearn import model_selection\n",
    "import matplotlib.pyplot as plt"
   ]
  },
  {
   "cell_type": "code",
   "execution_count": 133,
   "metadata": {},
   "outputs": [
    {
     "data": {
      "text/plain": [
       "'\\n1. Introduction\\n2. Linear Regression\\n'"
      ]
     },
     "execution_count": 133,
     "metadata": {},
     "output_type": "execute_result"
    }
   ],
   "source": [
    "'''\n",
    "1. Introduction\n",
    "2. Linear Regression\n",
    "'''"
   ]
  },
  {
   "cell_type": "code",
   "execution_count": 134,
   "metadata": {},
   "outputs": [],
   "source": [
    "'''\n",
    "2.1 Feature Normalization\n",
    "'''\n",
    "def feature_normalization(train, test):\n",
    "    \"\"\"Rescale the data so that each feature in the training set is in\n",
    "    the interval [0,1], and apply the same transformations to the test\n",
    "    set, using the statistics computed on the training set.\n",
    "\n",
    "    Args:\n",
    "        train - training set, a 2D numpy array of size (num_instances, num_features)\n",
    "        test  - test set, a 2D numpy array of size (num_instances, num_features)\n",
    "    Returns:\n",
    "        train_normalized - training set after normalization\n",
    "        test_normalized  - test set after normalization\n",
    "\n",
    "    \"\"\"\n",
    "    # sn: scaling with numpy\n",
    "    train_normalized = (train - train.min (0))/ train.ptp (0)\n",
    "    test_normalized = (test - train.min (0)) / train.ptp (0)\n",
    "    return (train_normalized, test_normalized)"
   ]
  },
  {
   "cell_type": "code",
   "execution_count": 135,
   "metadata": {},
   "outputs": [],
   "source": [
    "def prepare_data ():\n",
    "     #Loading the dataset\n",
    "    print('loading the dataset')\n",
    "\n",
    "    df = pd.read_csv('data.csv', delimiter=',')\n",
    "    X = df.values[:,:-1]\n",
    "    y = df.values[:,-1]\n",
    "\n",
    "    print('Split into Train and Test')\n",
    "    X_train, X_test, y_train, y_test = model_selection.train_test_split(X, y, test_size =100, random_state=10)\n",
    "\n",
    "    print(\"Scaling all to [0, 1]\")\n",
    "    X_train, X_test = feature_normalization(X_train, X_test)\n",
    "    \n",
    "    X_train = np.hstack((X_train, np.ones((X_train.shape[0], 1))))  # Add bias term\n",
    "    X_test = np.hstack((X_test, np.ones((X_test.shape[0], 1)))) # Add bias term\n",
    "    return (X_train, y_train, X_test, y_test)"
   ]
  },
  {
   "cell_type": "code",
   "execution_count": 136,
   "metadata": {},
   "outputs": [],
   "source": [
    "def get_normalized_training_data ():\n",
    "    (X_train, y_train, X_test, y_test) = prepare_data ()\n",
    "    return (X_train, y_train)"
   ]
  },
  {
   "cell_type": "code",
   "execution_count": 137,
   "metadata": {},
   "outputs": [],
   "source": [
    "def get_normalized_test_data ():\n",
    "    (X_train, y_train, X_test, y_test) = prepare_data ()\n",
    "    return (X_test, y_test)"
   ]
  },
  {
   "cell_type": "code",
   "execution_count": 138,
   "metadata": {},
   "outputs": [
    {
     "data": {
      "text/plain": [
       "'\\n2.2 Gradient Descent Setup\\n\\n2.2 (1) Matrix form expression for J (theta)\\n        J (theta) = (1/2m) * L_transpose . L \\n        where \\n        L = X . theta - y\\n        \\n    (2) Gradient of J\\n        G (theta) = (1/m) * X_transpose (X . theta - y)\\n        \\n    (3)\\n    \\n    (4) Expression for updating theta\\n        theta_i+1 = theta_i - eta * G (theta)\\n'"
      ]
     },
     "execution_count": 138,
     "metadata": {},
     "output_type": "execute_result"
    }
   ],
   "source": [
    "'''\n",
    "2.2 Gradient Descent Setup\n",
    "\n",
    "2.2 (1) Matrix form expression for J (theta)\n",
    "        J (theta) = (1/2m) * L_transpose . L \n",
    "        where \n",
    "        L = X . theta - y\n",
    "        \n",
    "    (2) Gradient of J\n",
    "        G (theta) = (1/m) * X_transpose (X . theta - y)\n",
    "        \n",
    "    (3)\n",
    "    \n",
    "    (4) Expression for updating theta\n",
    "        theta_i+1 = theta_i - eta * G (theta)\n",
    "'''"
   ]
  },
  {
   "cell_type": "code",
   "execution_count": 139,
   "metadata": {},
   "outputs": [],
   "source": [
    "'''\n",
    "2.2 (5) Square loss function\n",
    "'''\n",
    "########################################\n",
    "#### The square loss function\n",
    "\n",
    "def compute_square_loss(X, y, theta):\n",
    "    \"\"\"\n",
    "    Given a set of X, y, theta, compute the square loss for predicting y with X*theta\n",
    "\n",
    "    Args:\n",
    "        X - the feature vector, 2D numpy array of size (num_instances, num_features)\n",
    "        y - the label vector, 1D numpy array of size (num_instances)\n",
    "        theta - the parameter vector, 1D array of size (num_features)\n",
    "\n",
    "    Returns:\n",
    "        loss - the square loss, scalar\n",
    "    \"\"\"\n",
    "    loss = 0 #initialize the square_loss\n",
    "    #TODO\n",
    "    L = np.dot (X, theta) - y\n",
    "    loss = np.dot (L, L)/ (2 * y.size)\n",
    "    return loss\n"
   ]
  },
  {
   "cell_type": "code",
   "execution_count": 140,
   "metadata": {},
   "outputs": [
    {
     "data": {
      "text/plain": [
       "0.004999999999999994"
      ]
     },
     "execution_count": 140,
     "metadata": {},
     "output_type": "execute_result"
    }
   ],
   "source": [
    "'''\n",
    "test for compute_square_loss function implemented above\n",
    "'''\n",
    "ip_m = np.array ([[1,1],[2,2],[3,3]])\n",
    "op_m = np.array ([2.1,3.9,6.1])\n",
    "th_m = np.array ([1,1])\n",
    "compute_square_loss (ip_m, op_m, th_m)"
   ]
  },
  {
   "cell_type": "code",
   "execution_count": 141,
   "metadata": {},
   "outputs": [],
   "source": [
    "'''\n",
    "2.2 (5) Gradient of square loss function\n",
    "'''\n",
    "########################################\n",
    "### compute the gradient of square loss function\n",
    "def compute_square_loss_gradient(X, y, theta):\n",
    "    \"\"\"\n",
    "    Compute gradient of the square loss (as defined in compute_square_loss), at the point theta.\n",
    "\n",
    "    Args:\n",
    "        X - the feature vector, 2D numpy array of size (num_instances, num_features)\n",
    "        y - the label vector, 1D numpy array of size (num_instances)\n",
    "        theta - the parameter vector, 1D numpy array of size (num_features)\n",
    "\n",
    "    Returns:\n",
    "        grad - gradient vector, 1D numpy array of size (num_features)\n",
    "    \"\"\"\n",
    "    #TODO\n",
    "    L = np.dot (X, theta) - y\n",
    "    grad = np.dot (X.transpose (), L) / y.size\n",
    "    return grad\n"
   ]
  },
  {
   "cell_type": "code",
   "execution_count": 142,
   "metadata": {},
   "outputs": [
    {
     "data": {
      "text/plain": [
       "array([ 0.86666667,  0.86666667])"
      ]
     },
     "execution_count": 142,
     "metadata": {},
     "output_type": "execute_result"
    }
   ],
   "source": [
    "'''\n",
    "test for compute_square_loss function implemented above\n",
    "'''\n",
    "th_m = np.array ([1.1, 1.1])\n",
    "compute_square_loss_gradient (ip_m, op_m, th_m)"
   ]
  },
  {
   "cell_type": "code",
   "execution_count": 143,
   "metadata": {},
   "outputs": [
    {
     "data": {
      "text/plain": [
       "'\\nFindings - we begin to see a very noisy convergence path with small batch sizes\\nConvergence, as expected, gets faster with increasing step size\\nWith a step size beyond .1, divergence is observed with this data\\n'"
      ]
     },
     "execution_count": 143,
     "metadata": {},
     "output_type": "execute_result"
    }
   ],
   "source": [
    "'''\n",
    "2.4 (1) Batch gradient descent implementation\n",
    "'''\n",
    "####################################\n",
    "#### Batch Gradient Descent\n",
    "def batch_grad_descent(X, y, alpha=0.1, num_iter=1000, check_gradient=False):\n",
    "    \"\"\"\n",
    "    In this question you will implement batch gradient descent to\n",
    "    minimize the square loss objective\n",
    "\n",
    "    Args:\n",
    "        X - the feature vector, 2D numpy array of size (num_instances, num_features)\n",
    "        y - the label vector, 1D numpy array of size (num_instances)\n",
    "        alpha - step size in gradient descent\n",
    "        num_iter - number of iterations to run\n",
    "        check_gradient - a boolean value indicating whether checking the gradient when updating\n",
    "\n",
    "    Returns:\n",
    "        theta_hist - store the the history of parameter vector in iteration, 2D numpy array of size (num_iter+1, num_features)\n",
    "                    for instance, theta in iteration 0 should be theta_hist[0], theta in ieration (num_iter) is theta_hist[-1]\n",
    "        loss_hist - the history of objective function vector, 1D numpy array of size (num_iter+1)\n",
    "    \"\"\"\n",
    "    num_instances, num_features = X.shape[0], X.shape[1]\n",
    "    theta_hist = np.zeros((num_iter+1, num_features))  #Initialize theta_hist\n",
    "    loss_hist = np.zeros(num_iter+1) #initialize loss_hist\n",
    "    theta = np.zeros(num_features) #initialize theta\n",
    "    #TODO\n",
    "    # at small batch_sizes, we begin to see a noisy path to convergence \n",
    "    batch_size = 100\n",
    "\n",
    "    #X_train_batch, X_test_batch, y_train_batch, y_test_batch = \\\n",
    "    #    model_selection.train_test_split(X, y, test_size=y.size - batch_size, random_state=10 \n",
    "    \n",
    "    for i in range (num_iter):\n",
    "        X_train_batch, X_test_batch, y_train_batch, y_test_batch = \\\n",
    "            model_selection.train_test_split(X, y, test_size=y.size - batch_size, random_state=(10 + i))      \n",
    "        loss_hist [i] = compute_square_loss (X_train_batch, y_train_batch, theta_hist [i])\n",
    "        theta_hist [i+1] = theta_hist [i] - alpha * compute_square_loss_gradient (X_train_batch, y_train_batch, theta_hist [i])\n",
    "    return (theta_hist, loss_hist)\n",
    "\n",
    "'''\n",
    "Findings - we begin to see a very noisy convergence path with small batch sizes\n",
    "Convergence, as expected, gets faster with increasing step size\n",
    "With a step size beyond .1, divergence is observed with this data\n",
    "'''\n"
   ]
  },
  {
   "cell_type": "code",
   "execution_count": 144,
   "metadata": {},
   "outputs": [
    {
     "name": "stdout",
     "output_type": "stream",
     "text": [
      "loading the dataset\n",
      "Split into Train and Test\n",
      "Scaling all to [0, 1]\n"
     ]
    },
    {
     "data": {
      "image/png": "[encoded data removed]",
      "text/plain": [
       "<matplotlib.figure.Figure at 0x7f946cef0320>"
      ]
     },
     "metadata": {},
     "output_type": "display_data"
    }
   ],
   "source": [
    "'''\n",
    "test batch_grad_descent and plot loss against the step size to demonstrate convergence rate\n",
    "'''\n",
    "'''\n",
    "x = np.array ([[x, 'a'] for x in range (100)])\n",
    "y = np.array ([100 * x for x in range (100)])\n",
    "batch_grad_descent (x, y)\n",
    "'''\n",
    "def run_batch_grad_descent (X_train, y_train):\n",
    "    num_iters_to_print = 1000\n",
    "    for alpha in [0.005, 0.01, 0.02, 0.03, 0.04, 0.05, 0.1]:\n",
    "        (theta_hist, loss_hist) = batch_grad_descent (X_train, y_train, alpha)\n",
    "        plt.plot (range (num_iters_to_print), loss_hist [:num_iters_to_print])\n",
    "    plt.show ()\n",
    "    \n",
    "(X_train, y_train) = get_normalized_training_data ()\n",
    "run_batch_grad_descent (X_train, y_train)"
   ]
  },
  {
   "cell_type": "code",
   "execution_count": 145,
   "metadata": {},
   "outputs": [
    {
     "data": {
      "text/plain": [
       "'\\n2.5 Ridge Regression\\n    (1) Gradient of J(theta)\\n        (1/m)* [X_transpose . (X . theta - y) + lambda * theta]\\n'"
      ]
     },
     "execution_count": 145,
     "metadata": {},
     "output_type": "execute_result"
    }
   ],
   "source": [
    "'''\n",
    "2.5 Ridge Regression\n",
    "    (1) Gradient of J(theta)\n",
    "        (1/m)* [X_transpose . (X . theta - y) + lambda * theta]\n",
    "'''"
   ]
  },
  {
   "cell_type": "code",
   "execution_count": 146,
   "metadata": {},
   "outputs": [],
   "source": [
    "'''\n",
    "2.5 (2) compute_regularized_square_loss_gradient implementation\n",
    "'''\n",
    "###################################################\n",
    "### Compute the gradient of Regularized Batch Gradient Descent\n",
    "def compute_regularized_square_loss_gradient(X, y, theta, lambda_reg):\n",
    "    \"\"\"\n",
    "    Compute the gradient of L2-regularized square loss function given X, y and theta\n",
    "\n",
    "    Args:\n",
    "        X - the feature vector, 2D numpy array of size (num_instances, num_features)\n",
    "        y - the label vector, 1D numpy array of size (num_instances)\n",
    "        theta - the parameter vector, 1D numpy array of size (num_features)\n",
    "        lambda_reg - the regularization coefficient\n",
    "\n",
    "    Returns:\n",
    "        grad - gradient vector, 1D numpy array of size (num_features)\n",
    "    \"\"\"\n",
    "    #TODO\n",
    "    L = np.dot (X, theta) - y\n",
    "    grad = (np.dot (X.transpose (), L) + lambda_reg*theta)/ y.size\n",
    "    return grad"
   ]
  },
  {
   "cell_type": "code",
   "execution_count": 147,
   "metadata": {},
   "outputs": [],
   "source": [
    "'''\n",
    "2.5 (3) regularized_grad_descent implementation\n",
    "'''\n",
    "###################################################\n",
    "### Batch Gradient Descent with regularization term\n",
    "def regularized_grad_descent(X, y, alpha=0.1, lambda_reg=1, num_iter=1000):\n",
    "    \"\"\"\n",
    "    Args:\n",
    "        X - the feature vector, 2D numpy array of size (num_instances, num_features)\n",
    "        y - the label vector, 1D numpy array of size (num_instances)\n",
    "        alpha - step size in gradient descent\n",
    "        lambda_reg - the regularization coefficient\n",
    "        numIter - number of iterations to run\n",
    "\n",
    "    Returns:\n",
    "        theta_hist - the history of parameter vector, 2D numpy array of size (num_iter+1, num_features)\n",
    "        loss_hist - the history of loss function without the regularization term, 1D numpy array.\n",
    "    \"\"\"\n",
    "    (num_instances, num_features) = X.shape\n",
    "    theta = np.zeros(num_features) #Initialize theta\n",
    "    theta_hist = np.zeros((num_iter+1, num_features))  #Initialize theta_hist\n",
    "    loss_hist = np.zeros(num_iter+1) #Initialize loss_hist\n",
    "    #TODO\n",
    "    # at small batch_sizes, we begin to see a noisy path to convergence - mini-batch gradient descent\n",
    "    batch_size = y.size\n",
    "  \n",
    "    for i in range (num_iter):\n",
    "        X_train_batch, X_test_batch, y_train_batch, y_test_batch = \\\n",
    "            model_selection.train_test_split(X, y, test_size=y.size - batch_size, random_state=(10 + i))      \n",
    "        loss_hist [i] = compute_square_loss (X_train_batch, y_train_batch, theta_hist [i])\n",
    "        theta_hist [i+1] = theta_hist [i] - \\\n",
    "            alpha * compute_regularized_square_loss_gradient (X_train_batch, y_train_batch, theta_hist [i], lambda_reg)\n",
    "    return (theta_hist, loss_hist)"
   ]
  },
  {
   "cell_type": "code",
   "execution_count": 148,
   "metadata": {},
   "outputs": [
    {
     "data": {
      "text/plain": [
       "'\\n2.5 (4) Effect of Bias term B with regularization:\\n    With large values of B, it will be assigned a very low corresponding coefficient in theta,\\n    thus decreasing the effect it has on regularization. The value can be made arbitrarily large\\n    and the effective regularization on the bias term will approach 0 as B is made larger.\\n    It will not hit absolute 0 though.\\n'"
      ]
     },
     "execution_count": 148,
     "metadata": {},
     "output_type": "execute_result"
    }
   ],
   "source": [
    "'''\n",
    "2.5 (4) Effect of Bias term B with regularization:\n",
    "    With large values of B, it will be assigned a very low corresponding coefficient in theta,\n",
    "    thus decreasing the effect it has on regularization. The value can be made arbitrarily large\n",
    "    and the effective regularization on the bias term will approach 0 as B is made larger.\n",
    "    It will not hit absolute 0 though.\n",
    "'''"
   ]
  },
  {
   "cell_type": "code",
   "execution_count": 149,
   "metadata": {},
   "outputs": [
    {
     "name": "stdout",
     "output_type": "stream",
     "text": [
      "loading the dataset\n",
      "Split into Train and Test\n",
      "Scaling all to [0, 1]\n",
      "loading the dataset\n",
      "Split into Train and Test\n",
      "Scaling all to [0, 1]\n"
     ]
    },
    {
     "data": {
      "image/png": "[encoded data removed]",
      "text/plain": [
       "<matplotlib.figure.Figure at 0x7f946aa2eb00>"
      ]
     },
     "metadata": {},
     "output_type": "display_data"
    },
    {
     "data": {
      "text/plain": [
       "\"\\nIncreasing lambda beyond 1 leads to poor fitting and the loss starts increasing very fast.\\nWe'd want to select lambda so that it has a good balance between controlling overfitting\\nwhile still allowing a good fit. Results on test loss compared in the cell below.\\nAs seen in the chart below, lambda = 0.1 [log(lambda) = -1 ] is where the square loss starts increasing\\n\""
      ]
     },
     "execution_count": 149,
     "metadata": {},
     "output_type": "execute_result"
    }
   ],
   "source": [
    "'''\n",
    "2.5 (7) Ridge regression loss against lambda (training data)\n",
    "'''\n",
    "\n",
    "#lambda_vals = [pow(10,-7), pow(10,-5), pow(10,-3), pow(10,-2), pow(10,-1), 1, 10, 20]\n",
    "lambda_vals = [0.01, 0.02, 0.050, 1, 5, 10, 20]\n",
    "log_lambda = np.log10 (lambda_vals)\n",
    "train_loss_vector = []\n",
    "test_loss_vector = []\n",
    "theta_values = []\n",
    "num_iter = 1000\n",
    "(X_train, y_train) = get_normalized_training_data ()\n",
    "(X_test, y_test) = get_normalized_test_data ()\n",
    "\n",
    "for lbda in lambda_vals:\n",
    "    (theta_hist, loss_hist) = regularized_grad_descent (X_train, y_train, alpha=0.1, lambda_reg=lbda, num_iter=num_iter)\n",
    "    train_loss_vector.append (compute_square_loss (X_train, y_train, theta_hist [num_iter-1]))\n",
    "    test_loss_vector.append (compute_square_loss (X_test, y_test, theta_hist [num_iter-1]))\n",
    "    theta_values.append (theta_hist [num_iter-1])\n",
    "plt.plot (log_lambda, train_loss_vector)\n",
    "plt.plot (log_lambda, test_loss_vector)\n",
    "\n",
    "#print (train_loss_vector)\n",
    "#print (test_loss_vector)\n",
    "\n",
    "plt.show ()\n",
    "\n",
    "\n",
    "'''\n",
    "Increasing lambda beyond 1 leads to poor fitting and the loss starts increasing very fast.\n",
    "We'd want to select lambda so that it has a good balance between controlling overfitting\n",
    "while still allowing a good fit. Results on test loss compared in the cell below.\n",
    "As seen in the chart below, lambda = 0.1 [log(lambda) = -1 ] is where the square loss starts increasing\n",
    "'''"
   ]
  },
  {
   "cell_type": "code",
   "execution_count": 150,
   "metadata": {},
   "outputs": [
    {
     "data": {
      "text/plain": [
       "'\\n2.5 (8) Selection of theta in deployment\\n    Theta corresponding to lambda=1 yields the best performance on training as well as test data\\n    while maintaining a regularization that does not lead to poor fit.\\n'"
      ]
     },
     "execution_count": 150,
     "metadata": {},
     "output_type": "execute_result"
    }
   ],
   "source": [
    "'''\n",
    "2.5 (8) Selection of theta in deployment\n",
    "    Theta corresponding to lambda=1 yields the best performance on training as well as test data\n",
    "    while maintaining a regularization that does not lead to poor fit.\n",
    "'''"
   ]
  },
  {
   "cell_type": "code",
   "execution_count": 151,
   "metadata": {},
   "outputs": [],
   "source": [
    "#############################################\n",
    "## Visualization of Regularized Batch Gradient Descent\n",
    "##X-axis: log(lambda_reg)\n",
    "##Y-axis: square_loss\n",
    "\n",
    "#############################################\n",
    "### Stochastic Gradient Descent\n",
    "def stochastic_grad_descent(X, y, alpha=0.1, lambda_reg=1, num_iter=1000):\n",
    "    \"\"\"\n",
    "    In this question you will implement stochastic gradient descent with a regularization term\n",
    "\n",
    "    Args:\n",
    "        X - the feature vector, 2D numpy array of size (num_instances, num_features)\n",
    "        y - the label vector, 1D numpy array of size (num_instances)\n",
    "        alpha - string or float. step size in gradient descent\n",
    "                NOTE: In SGD, it's not always a good idea to use a fixed step size. Usually it's set to 1/sqrt(t) or 1/t\n",
    "                if alpha is a float, then the step size in every iteration is alpha.\n",
    "                if alpha == \"1/sqrt(t)\", alpha = 1/sqrt(t)\n",
    "                if alpha == \"1/t\", alpha = 1/t\n",
    "        lambda_reg - the regularization coefficient\n",
    "        num_iter - number of epochs (i.e number of times) to go through the whole training set\n",
    "\n",
    "    Returns:\n",
    "        theta_hist - the history of parameter vector, 3D numpy array of size (num_iter, num_instances, num_features)\n",
    "        loss hist - the history of regularized loss function vector, 2D numpy array of size(num_iter, num_instances)\n",
    "    \"\"\"\n",
    "    num_instances, num_features = X.shape[0], X.shape[1]\n",
    "    theta = np.ones(num_features) #Initialize theta\n",
    "    obj_fn_values = np.zeros (num_iter)\n",
    "\n",
    "    #theta_hist = np.zeros((num_iter, num_instances, num_features))  #Initialize theta_hist\n",
    "    loss_hist = np.zeros((num_iter, num_instances)) #Initialize loss_hist\n",
    "    #TODO\n",
    "    \n",
    "    batch_size = 1\n",
    "    scale_down_factor = None\n",
    "    \n",
    "    # default value to use if an invalid input is provided\n",
    "    step_size = 0.1\n",
    "    if isinstance (alpha, float):\n",
    "        step_size = alpha\n",
    "    elif alpha == '1/sqrt(t)':\n",
    "        scale_down_factor = \"inv_sqrt\"\n",
    "        step_size = None\n",
    "    elif alpha == '1/t':\n",
    "        scale_down_factor = \"inv\"\n",
    "        step_size = None\n",
    "    else:\n",
    "        None\n",
    "    \n",
    "    for i in range (num_iter):\n",
    "        idx = np.random.randint (0, y.size)\n",
    "        iter_alpha = None\n",
    "        if step_size:\n",
    "            iter_alpha = step_size\n",
    "        elif scale_down_factor == \"inv_sqrt\":\n",
    "            iter_alpha = 1 / np.sqrt(i + 1)\n",
    "        elif scale_down_factor == \"inv\":\n",
    "            iter_alpha = 1 / (i + 1)\n",
    "        else:\n",
    "            None\n",
    "\n",
    "        loss_hist [i] = compute_square_loss (np.array ([X [idx]]), np.array ([y [idx]]), theta_hist [i])\n",
    "        #loss_hist [i] = compute_square_loss ([X [idx]], [y [idx]], theta)\n",
    "        theta_hist [i+1] = theta_hist [i] - \\\n",
    "            iter_alpha * compute_regularized_square_loss_gradient (np.array ([X [idx]]), np.array ([y [idx]]), theta_hist [i], lambda_reg)\n",
    "        obj_fn_values [i] =  (0.5 * ((np.dot (X [idx], theta_hist [i+1]) - y [idx])**2) + \\\n",
    "                              lambda_reg * np.dot (theta_hist [i+1], theta_hist [i+1]))\n",
    "        #theta = theta - \\\n",
    "        #    iter_alpha * compute_regularized_square_loss_gradient ([X [idx]], [y [idx]], theta, lambda_reg) \n",
    "        #theta_hist.append (theta)\n",
    "    return (theta_hist, loss_hist, obj_fn_values)"
   ]
  },
  {
   "cell_type": "code",
   "execution_count": 152,
   "metadata": {},
   "outputs": [
    {
     "name": "stdout",
     "output_type": "stream",
     "text": [
      "loading the dataset\n",
      "Split into Train and Test\n",
      "Scaling all to [0, 1]\n",
      "loading the dataset\n",
      "Split into Train and Test\n",
      "Scaling all to [0, 1]\n"
     ]
    },
    {
     "data": {
      "image/png": "[encoded data removed]",
      "text/plain": [
       "<matplotlib.figure.Figure at 0x7f946a80b128>"
      ]
     },
     "metadata": {},
     "output_type": "display_data"
    },
    {
     "data": {
      "text/plain": [
       "'\\nResults: large fixed step sizes do not lead to convergence/ are noisy whereas adaptive step size leads to faster convergence\\nthe converged value is higher than the value achieved using batch gradient descent\\n'"
      ]
     },
     "execution_count": 152,
     "metadata": {},
     "output_type": "execute_result"
    }
   ],
   "source": [
    "'''\n",
    "2.6 (5) Investigate the effect of step size\n",
    "Using lambda_reg = 1 as found in the previous problem, and B = 1\n",
    "'''\n",
    "\n",
    "train_loss_vector = []\n",
    "test_loss_vector = []\n",
    "theta_values = []\n",
    "obj_fn_values = []\n",
    "num_iter = 1000\n",
    "(X_train, y_train) = get_normalized_training_data ()\n",
    "(X_test, y_test) = get_normalized_test_data ()\n",
    "#alpha_vals_to_test = [0.001, 0.005, 0.10, \"1/sqrt(t)\", \"1/t\"]\n",
    "alpha_vals_to_test = [0.005,\"1/sqrt(t)\", \"1/t\"]\n",
    "\n",
    "for alpha in alpha_vals_to_test:\n",
    "    (theta_hist, loss_hist, obj_fn_values) = stochastic_grad_descent (X_train, y_train, alpha=alpha, lambda_reg=lbda, num_iter=num_iter)\n",
    "    # sn: to retain plot readability, use a max value of OBJ_FN_CAP\n",
    "    OBJ_FN_CAP=500\n",
    "    obj_fn_values [obj_fn_values > OBJ_FN_CAP] = OBJ_FN_CAP\n",
    "    plt.plot (range (1,num_iter), obj_fn_values[1:])    \n",
    "\n",
    "plt.show ()\n",
    "\n",
    "'''\n",
    "Results: large fixed step sizes do not lead to convergence/ are noisy whereas adaptive step size leads to faster convergence\n",
    "the converged value is higher than the value achieved using batch gradient descent\n",
    "'''"
   ]
  },
  {
   "cell_type": "code",
   "execution_count": null,
   "metadata": {},
   "outputs": [],
   "source": []
  },
  {
   "cell_type": "code",
   "execution_count": null,
   "metadata": {},
   "outputs": [],
   "source": []
  },
  {
   "cell_type": "code",
   "execution_count": null,
   "metadata": {},
   "outputs": [],
   "source": []
  }
 ],
 "metadata": {
  "kernelspec": {
   "display_name": "Python 3",
   "language": "python",
   "name": "python3"
  },
  "language_info": {
   "codemirror_mode": {
    "name": "ipython",
    "version": 3
   },
   "file_extension": ".py",
   "mimetype": "text/x-python",
   "name": "python",
   "nbconvert_exporter": "python",
   "pygments_lexer": "ipython3",
   "version": "3.5.2"
  }
 },
 "nbformat": 4,
 "nbformat_minor": 2
}
