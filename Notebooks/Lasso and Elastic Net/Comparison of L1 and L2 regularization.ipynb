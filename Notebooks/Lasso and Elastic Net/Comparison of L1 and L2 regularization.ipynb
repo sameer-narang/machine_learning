{
 "cells": [
  {
   "cell_type": "code",
   "execution_count": 1,
   "metadata": {
    "collapsed": true,
    "deletable": true,
    "editable": true
   },
   "outputs": [],
   "source": [
    "import numpy as np\n",
    "from bqplot import pyplot as plt\n",
    "from scipy.optimize import fmin\n",
    "from ipywidgets import FloatSlider, VBox, Label, HBox"
   ]
  },
  {
   "cell_type": "code",
   "execution_count": 2,
   "metadata": {
    "collapsed": true,
    "deletable": true,
    "editable": true
   },
   "outputs": [],
   "source": [
    "def sigmoid_array(x, a=10):                                        \n",
    "    return 1 / (1 + np.exp(-a*x))"
   ]
  },
  {
   "cell_type": "code",
   "execution_count": 4,
   "metadata": {
    "collapsed": false,
    "deletable": true,
    "editable": true
   },
   "outputs": [],
   "source": [
    "def get_function(beta, x=x, points=points):\n",
    "    tem=[]\n",
    "    for i in points:\n",
    "        tem.append((x > i))\n",
    "    return np.sum(beta[:, np.newaxis] * np.array(tem), axis=0)"
   ]
  },
  {
   "cell_type": "code",
   "execution_count": 5,
   "metadata": {
    "collapsed": true,
    "deletable": true,
    "editable": true
   },
   "outputs": [],
   "source": [
    "def fit_function(coeffs, lam1= 0., lam2=0., y=y, x=x, points=points):\n",
    "    return np.sum((y-get_function(np.array(coeffs)))**2) + lam1 * np.sum(np.abs(coeffs)) + lam2 * np.sum(coeffs**2)"
   ]
  },
  {
   "cell_type": "code",
   "execution_count": 3,
   "metadata": {
    "collapsed": false,
    "deletable": true,
    "editable": true
   },
   "outputs": [],
   "source": [
    "## Define points, x and y as \\sigma(x)\n",
    "\n",
    "points = np.array([0] + list(np.linspace(0, 1, 5)[1:-1]))\n",
    "x = np.linspace(-1, 1, 100)\n",
    "y = sigmoid_array(x)"
   ]
  },
  {
   "cell_type": "code",
   "execution_count": 8,
   "metadata": {
    "collapsed": true,
    "deletable": true,
    "editable": true
   },
   "outputs": [],
   "source": [
    "initial_guesses = [0., 0.15, 0.22, 0.25]"
   ]
  },
  {
   "cell_type": "code",
   "execution_count": 9,
   "metadata": {
    "collapsed": true,
    "deletable": true,
    "editable": true
   },
   "outputs": [],
   "source": [
    "lam1_slid = FloatSlider(description='Lambda 1', min=0, max=100, value=0)\n",
    "lam2_slid = FloatSlider(description='Lambda 2', min=0, max=100, value=0)\n",
    "lab = Label(value='Error = 7.877')"
   ]
  },
  {
   "cell_type": "code",
   "execution_count": 10,
   "metadata": {
    "collapsed": true,
    "deletable": true,
    "editable": true
   },
   "outputs": [],
   "source": [
    "layout = VBox([lam1_slid, lam2_slid, lab])"
   ]
  },
  {
   "cell_type": "code",
   "execution_count": 11,
   "metadata": {
    "collapsed": false,
    "deletable": true,
    "editable": true,
    "scrolled": true
   },
   "outputs": [],
   "source": [
    "fig = plt.figure(title='Sigmoid Fit')\n",
    "plt.plot(x, y)\n",
    "fit_line = plt.plot(x, get_function(fmin(fit_function, initial_guesses, args=(0, 0), disp=False)), colors=['Red'])"
   ]
  },
  {
   "cell_type": "code",
   "execution_count": 12,
   "metadata": {
    "collapsed": false,
    "deletable": true,
    "editable": true
   },
   "outputs": [],
   "source": [
    "def slid_changed(new):\n",
    "    coeffs = fmin(fit_function, initial_guesses, args=(lam1_slid.value, lam2_slid.value), disp=False)\n",
    "    fit_line.y = get_function(coeffs)\n",
    "    lab.value = 'Error = ' + str(fit_function(coeffs))"
   ]
  },
  {
   "cell_type": "code",
   "execution_count": 13,
   "metadata": {
    "collapsed": true,
    "deletable": true,
    "editable": true
   },
   "outputs": [],
   "source": [
    "lam1_slid.observe(slid_changed, 'value')\n",
    "lam2_slid.observe(slid_changed, 'value')"
   ]
  },
  {
   "cell_type": "code",
   "execution_count": 14,
   "metadata": {
    "collapsed": false,
    "deletable": true,
    "editable": true
   },
   "outputs": [
    {
     "data": {
      "application/vnd.jupyter.widget-view+json": {
       "model_id": "1bde44f9eebb40b1b669c148a0d6b1f4"
      }
     },
     "metadata": {},
     "output_type": "display_data"
    }
   ],
   "source": [
    "HBox([fig, layout])"
   ]
  }
 ],
 "metadata": {
  "kernelspec": {
   "display_name": "Python 2",
   "language": "python",
   "name": "python2"
  },
  "language_info": {
   "codemirror_mode": {
    "name": "ipython",
    "version": 2
   },
   "file_extension": ".py",
   "mimetype": "text/x-python",
   "name": "python",
   "nbconvert_exporter": "python",
   "pygments_lexer": "ipython2",
   "version": "2.7.12"
  },
  "widgets": {
   "state": {
    "1202fc0650eb4eefaeb8a7185aebb67a": {
     "views": [
      {
       "cell_index": 3
      }
     ]
    },
    "bac05e1f2a4840b4ab97c55b1e7557fb": {
     "views": [
      {
       "cell_index": 8
      }
     ]
    }
   },
   "version": "1.2.0"
  }
 },
 "nbformat": 4,
 "nbformat_minor": 0
}
